{
 "cells": [
  {
   "cell_type": "markdown",
   "id": "f0990e04",
   "metadata": {},
   "source": [
    "# Imports"
   ]
  },
  {
   "cell_type": "code",
   "execution_count": 1,
   "id": "269a8a0c",
   "metadata": {},
   "outputs": [],
   "source": [
    "import torch\n",
    "import torchvision\n",
    "import torchvision.transforms as transforms\n",
    "import matplotlib.pyplot as plt\n",
    "import torch.nn as nn\n",
    "import torch.nn.functional as F\n"
   ]
  },
  {
   "cell_type": "markdown",
   "id": "f40acc86",
   "metadata": {},
   "source": [
    "# Data Loading"
   ]
  },
  {
   "cell_type": "code",
   "execution_count": null,
   "id": "7304e27a",
   "metadata": {},
   "outputs": [],
   "source": [
    "# from torch.utils.data import Dataset\n",
    "\n",
    "# class imageDataset(Dataset):\n",
    "#     #Subclass datasets in order to create a custom one that i dont have to load everything in till im ready\n",
    "    \n",
    "#     #All neeccesary methods to implement: Inits it with data\n",
    "#     def __init__(self, folder_path):\n",
    "#         self.data = #Stuff from folder path\n",
    "\n",
    "#     def __len__(self):\n",
    "#         return len(self.data)\n",
    "    \n",
    "#     def __getitem__(self, idx):\n",
    "#         #Gets the item at idx in form (data, target label) or (X, Y)"
   ]
  },
  {
   "cell_type": "code",
   "execution_count": null,
   "id": "3be27916",
   "metadata": {},
   "outputs": [],
   "source": [
    "from torchvision import datasets, transforms\n",
    "from torch.utils.data import DataLoader\n",
    "\n",
    "transform = transforms.Compose([\n",
    "    transforms.Resize((256, 256)),\n",
    "    transforms.ToTensor()]\n",
    ")\n",
    "\n",
    "data_dir = \"data/cloud_data\" \n",
    "dataset = datasets.ImageFolder(root=data_dir, transform=transform) #Note. Add a transforms=transforms\n",
    "\n",
    "batch_size = 32\n",
    "dataloader = DataLoader(dataset, batch_size=batch_size, shuffle=True)"
   ]
  },
  {
   "cell_type": "code",
   "execution_count": null,
   "id": "22d2ab2b",
   "metadata": {},
   "outputs": [
    {
     "name": "stdout",
     "output_type": "stream",
     "text": [
      "<class 'torchvision.datasets.folder.ImageFolder'>\n"
     ]
    }
   ],
   "source": [
    "print(type(dataset))"
   ]
  },
  {
   "cell_type": "code",
   "execution_count": null,
   "id": "d6d8dde6",
   "metadata": {},
   "outputs": [
    {
     "name": "stdout",
     "output_type": "stream",
     "text": [
      "torch.Size([3, 256, 256])\n"
     ]
    }
   ],
   "source": [
    "for data in dataloader:\n",
    "    # print(torch.squeeze(data[0][0]).shape) #Data appears to be from 0 to 1\n",
    "    img = transforms.ToPILImage()(torch.squeeze(data[0][0]))\n",
    "    \n",
    "    img.show()\n",
    "    break\n"
   ]
  },
  {
   "cell_type": "markdown",
   "id": "5e281612",
   "metadata": {},
   "source": []
  },
  {
   "cell_type": "markdown",
   "id": "f55bdb81",
   "metadata": {},
   "source": [
    "# Basic CNN"
   ]
  },
  {
   "cell_type": "code",
   "execution_count": 88,
   "id": "b26835ba",
   "metadata": {},
   "outputs": [],
   "source": [
    "class convNet(nn.Module):\n",
    "    def __init__(self):\n",
    "        super().__init__()\n",
    "        #nn.conv2d -> in_channels, out_channels, kernel_size\n",
    "        #Stride defaults to 1\n",
    "        #Halves on wxh which is done 2x.\n",
    "        self.all_pooling = nn.MaxPool2d(2, 2)\n",
    "\n",
    "        #After this: 256-4 -> 252\n",
    "        self.conv1 = nn.Conv2d(3, 6, 5) #Conv layer 1. Padding is 0\n",
    "\n",
    "        #Decreases by another 4 \n",
    "        self.conv2 = nn.Conv2d(6, 16, 5)\n",
    "\n",
    "        self.conv3 = nn.Conv2d(16, 32, 5)\n",
    "\n",
    "        self.conv_layers = [self.conv1, self.conv2, self.conv3] #Put all conv layers and fcs into a list for ease of iteration through later?\n",
    "\n",
    "        self.flatten = nn.Flatten()\n",
    "        \n",
    "        flattened_size = 25088\n",
    "        self.fc1 = nn.Linear(flattened_size, 120)\n",
    "        self.fc2 = nn.Linear(120, 180)\n",
    "        self.fcs = [self.fc1, self.fc2]\n",
    "        self.final_fc = nn.Linear(180, 11)\n",
    "\n",
    "\n",
    "    def forward(self, x):\n",
    "        for conv_layer in self.conv_layers:\n",
    "            x = self.all_pooling(F.relu(conv_layer(x)))\n",
    "        # x = self.all_pooling(F.relu(self.conv1(x)))\n",
    "        # x = self.all_pooling(F.relu(self.conv2(x)))    \n",
    "        x = self.flatten(x)\n",
    "\n",
    "        for fc in self.fcs:\n",
    "            x = F.relu(fc(x))\n",
    "        x = self.final_fc(x)\n",
    "\n",
    "        # x = F.relu(self.fc1(x))\n",
    "        # x = F.relu(self.fc2(x)) \n",
    "        return x"
   ]
  },
  {
   "cell_type": "code",
   "execution_count": 89,
   "id": "bdf83587",
   "metadata": {},
   "outputs": [],
   "source": [
    "model  = convNet()\n",
    "for data in dataloader:\n",
    "    model.forward(data[0])\n",
    "    break\n"
   ]
  },
  {
   "cell_type": "code",
   "execution_count": 90,
   "id": "8b483c53",
   "metadata": {},
   "outputs": [],
   "source": [
    "import torch.optim as optim\n",
    "\n",
    "criterion = nn.CrossEntropyLoss() #Multi class loss\n",
    "optimizer = optim.SGD(model.parameters(), lr=0.01, momentum=0.9)\n",
    "\n"
   ]
  },
  {
   "cell_type": "code",
   "execution_count": null,
   "id": "69cc2bb9",
   "metadata": {},
   "outputs": [
    {
     "name": "stdout",
     "output_type": "stream",
     "text": [
      "Epoch 1 batcj 40 loss: 2.107 acc 0.258\n",
      "Epoch 1 batcj 80 loss: 2.095 acc 0.265\n",
      "Epoch 2 batcj 40 loss: 2.093 acc 0.239\n",
      "Epoch 2 batcj 80 loss: 2.044 acc 0.272\n",
      "Epoch 3 batcj 40 loss: 2.034 acc 0.291\n",
      "Epoch 3 batcj 80 loss: 2.076 acc 0.264\n",
      "Epoch 4 batcj 40 loss: 2.051 acc 0.266\n",
      "Epoch 4 batcj 80 loss: 2.061 acc 0.271\n",
      "Epoch 5 batcj 40 loss: 2.068 acc 0.249\n",
      "Epoch 5 batcj 80 loss: 2.013 acc 0.270\n",
      "Epoch 6 batcj 40 loss: 1.976 acc 0.291\n",
      "Epoch 6 batcj 80 loss: 1.965 acc 0.318\n",
      "Epoch 7 batcj 40 loss: 1.909 acc 0.321\n",
      "Epoch 7 batcj 80 loss: 1.998 acc 0.285\n",
      "Epoch 8 batcj 40 loss: 1.924 acc 0.328\n",
      "Epoch 8 batcj 80 loss: 1.977 acc 0.303\n",
      "Epoch 9 batcj 40 loss: 1.947 acc 0.312\n"
     ]
    }
   ],
   "source": [
    "batches_to_print = 100\n",
    "\n",
    "for epoch in range(50): \n",
    "\n",
    "    running_loss = 0\n",
    "    running_acc = 0\n",
    "    for i, data in enumerate(dataloader):\n",
    "        inputs, labels = data\n",
    "\n",
    "        model.train() #if we ever decide to batchnorm later. jujst tells it that we're in training mode rn\n",
    "\n",
    "        optimizer.zero_grad() #zero grad\n",
    "        \n",
    "        outputs = model(inputs) #fd it\n",
    "        # print(torch.argmax(outputs, dim = 1).shape)\n",
    "        # print(labels.shape)\n",
    "        acc = torch.sum(torch.argmax(outputs, dim = 1) == labels) / len(labels)\n",
    "\n",
    "        loss = criterion(outputs, labels)\n",
    "\n",
    "        loss.backward()\n",
    "        optimizer.step()\n",
    "        \n",
    "        running_acc += acc.item()\n",
    "        running_loss += loss.item()\n",
    "\n",
    "        if i % batches_to_print == batches_to_print - 1:    # print every 20 batches\n",
    "            print(f'Epoch {epoch + 1} batcj {i + 1} loss: {running_loss / batches_to_print:.3f} acc {running_acc / batches_to_print:.3f}')\n",
    "            running_acc = 0\n",
    "            running_loss = 0 \n",
    "\n",
    "print('Finished Training') "
   ]
  },
  {
   "cell_type": "code",
   "execution_count": null,
   "id": "4c33391e",
   "metadata": {},
   "outputs": [],
   "source": []
  }
 ],
 "metadata": {
  "kernelspec": {
   "display_name": "inatbot",
   "language": "python",
   "name": "python3"
  },
  "language_info": {
   "codemirror_mode": {
    "name": "ipython",
    "version": 3
   },
   "file_extension": ".py",
   "mimetype": "text/x-python",
   "name": "python",
   "nbconvert_exporter": "python",
   "pygments_lexer": "ipython3",
   "version": "3.11.9"
  }
 },
 "nbformat": 4,
 "nbformat_minor": 5
}
