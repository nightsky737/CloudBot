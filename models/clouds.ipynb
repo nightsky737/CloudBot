{
 "cells": [
  {
   "cell_type": "markdown",
   "id": "f0990e04",
   "metadata": {},
   "source": [
    "# Imports"
   ]
  },
  {
   "cell_type": "code",
   "execution_count": 132,
   "id": "269a8a0c",
   "metadata": {},
   "outputs": [],
   "source": [
    "import torch\n",
    "import torchvision\n",
    "import torchvision.transforms as transforms\n",
    "import matplotlib.pyplot as plt\n",
    "import torch.nn as nn\n",
    "import torch.nn.functional as F\n"
   ]
  },
  {
   "cell_type": "markdown",
   "id": "f40acc86",
   "metadata": {},
   "source": [
    "# Data Loading"
   ]
  },
  {
   "cell_type": "code",
   "execution_count": 133,
   "id": "7304e27a",
   "metadata": {},
   "outputs": [],
   "source": [
    "# from torch.utils.data import Dataset\n",
    "\n",
    "# class imageDataset(Dataset):\n",
    "#     #Subclass datasets in order to create a custom one that i dont have to load everything in till im ready\n",
    "    \n",
    "#     #All neeccesary methods to implement: Inits it with data\n",
    "#     def __init__(self, folder_path):\n",
    "#         self.data = #Stuff from folder path\n",
    "\n",
    "#     def __len__(self):\n",
    "#         return len(self.data)\n",
    "    \n",
    "#     def __getitem__(self, idx):\n",
    "#         #Gets the item at idx in form (data, target label) or (X, Y)"
   ]
  },
  {
   "cell_type": "code",
   "execution_count": 134,
   "id": "3be27916",
   "metadata": {},
   "outputs": [],
   "source": [
    "from torchvision import datasets, transforms\n",
    "from torch.utils.data import DataLoader, random_split\n",
    "\n",
    "transform = transforms.Compose([\n",
    "    transforms.Resize((256, 256)),\n",
    "    transforms.ToTensor()]\n",
    ")\n",
    "\n",
    "data_dir = \"data/cloud_data\" \n",
    "dataset = datasets.ImageFolder(root=data_dir, transform=transform) #Note. Add a transforms=transforms\n",
    "\n",
    "train_data, test_data, val_data = random_split(dataset, [0.75, .15, .10])\n",
    "\n",
    "batch_size = 32\n",
    "train_loader = DataLoader(train_data, batch_size=batch_size, shuffle=True)\n",
    "test_loader = DataLoader(test_data, batch_size=batch_size, shuffle=True)\n",
    "val_loader = DataLoader(val_data, batch_size=batch_size, shuffle=True) #prolly dont have to shuffle these 2 but might as well\n",
    "\n",
    "human_labels = [\"Altocumulus\", \"Altostratus\", \"Cumulonimbus\",\"Cirrocumulus\", \"Cirrus\", \"Cirrostratus\", \"Contrail\", \"Cumulus\",\n",
    "                 \"Nimbus\", \"Stratocumulus\", \"Stratus\" ] #human readable labels"
   ]
  },
  {
   "cell_type": "code",
   "execution_count": 135,
   "id": "22d2ab2b",
   "metadata": {},
   "outputs": [
    {
     "name": "stdout",
     "output_type": "stream",
     "text": [
      "<class 'torchvision.datasets.folder.ImageFolder'>\n"
     ]
    }
   ],
   "source": [
    "print(type(dataset))"
   ]
  },
  {
   "cell_type": "code",
   "execution_count": 136,
   "id": "d6d8dde6",
   "metadata": {},
   "outputs": [],
   "source": [
    "for data in dataloader:\n",
    "    # print(torch.squeeze(data[0][0]).shape) #Data appears to be from 0 to 1\n",
    "    img = transforms.ToPILImage()(torch.squeeze(data[0][0]))\n",
    "    \n",
    "    img.show()\n",
    "    break\n"
   ]
  },
  {
   "cell_type": "markdown",
   "id": "5e281612",
   "metadata": {},
   "source": []
  },
  {
   "cell_type": "markdown",
   "id": "f55bdb81",
   "metadata": {},
   "source": [
    "# Basic CNN (no transfer learning)"
   ]
  },
  {
   "cell_type": "code",
   "execution_count": null,
   "id": "b26835ba",
   "metadata": {},
   "outputs": [],
   "source": [
    "class convNet(nn.Module):\n",
    "    def __init__(self):\n",
    "        super().__init__()\n",
    "        #nn.conv2d -> in_channels, out_channels, kernel_size\n",
    "        #Stride defaults to 1\n",
    "        #Halves on wxh which is done 2x.\n",
    "        self.all_pooling = nn.MaxPool2d(2, 2)\n",
    "\n",
    "        #After this: 256-4 -> 252\n",
    "        self.conv1 = nn.Conv2d(3, 6, 3) #Conv layer 1. Padding is 0\n",
    "\n",
    "        #Decreases by another 4 \n",
    "        self.conv2 = nn.Conv2d(6, 16, 3)\n",
    "\n",
    "        self.conv3 = nn.Conv2d(16, 32, 5)\n",
    "\n",
    "        self.conv4 = nn.Conv2d(32, 64, 5)\n",
    "        self.conv_layers = [self.conv1, self.conv2, self.conv3] #Put all conv layers and fcs into a list for ease of iteration through later?\n",
    "\n",
    "        self.flatten = nn.Flatten()\n",
    "        \n",
    "        flattened_size = 26912\n",
    "        self.fc1 = nn.Linear(flattened_size, 120)\n",
    "        self.fc2 = nn.Linear(120, 180)\n",
    "        self.fcs = [self.fc1, self.fc2]\n",
    "        self.final_fc = nn.Linear(180, 11)\n",
    "\n",
    "\n",
    "    def forward(self, x):\n",
    "        for conv_layer in self.conv_layers:\n",
    "            x = self.all_pooling(F.relu(conv_layer(x)))\n",
    "        # x = self.all_pooling(F.relu(self.conv1(x)))\n",
    "        # x = self.all_pooling(F.relu(self.conv2(x)))    \n",
    "        x = self.flatten(x)\n",
    "\n",
    "        # print(x.shape)\n",
    "\n",
    "        for fc in self.fcs:\n",
    "            x = F.relu(fc(x))\n",
    "        x = self.final_fc(x)\n",
    "\n",
    "        # x = F.relu(self.fc1(x))\n",
    "        # x = F.relu(self.fc2(x)) \n",
    "        \n",
    "        #UGH I was probably supposed to softmax them\n",
    "        return x"
   ]
  },
  {
   "cell_type": "code",
   "execution_count": 148,
   "id": "bdf83587",
   "metadata": {},
   "outputs": [],
   "source": [
    "model  = convNet()\n",
    "for data in train_loader:\n",
    "    model.forward(data[0])\n",
    "    break\n"
   ]
  },
  {
   "cell_type": "code",
   "execution_count": 139,
   "id": "8b483c53",
   "metadata": {},
   "outputs": [],
   "source": [
    "import torch.optim as optim\n",
    "\n",
    "criterion = nn.CrossEntropyLoss() #Multi class loss\n",
    "optimizer = optim.SGD(model.parameters(), lr=0.01, momentum=0.9)\n",
    "\n"
   ]
  },
  {
   "cell_type": "code",
   "execution_count": 140,
   "id": "b92dcac2",
   "metadata": {},
   "outputs": [],
   "source": [
    "def eval_model(model, test_loader):\n",
    "    running_acc = 0\n",
    "\n",
    "    for inputs, labels in test_loader:\n",
    "        outputs = model(inputs)\n",
    "        running_acc += torch.sum(torch.argmax(outputs, dim = 1) == labels) / len(labels)\n",
    "\n",
    "    return running_acc / len(test_loader)"
   ]
  },
  {
   "cell_type": "code",
   "execution_count": 149,
   "id": "69cc2bb9",
   "metadata": {},
   "outputs": [
    {
     "name": "stdout",
     "output_type": "stream",
     "text": [
      "starting training\n",
      "Epoch 1 batcj 20 loss: 2.396 acc 0.087\n",
      "Epoch 1 batcj 40 loss: 2.397 acc 0.086\n",
      "Epoch 1 batcj 60 loss: 2.396 acc 0.110\n",
      "Epoch 2 batcj 20 loss: 2.395 acc 0.095\n",
      "Epoch 2 batcj 40 loss: 2.397 acc 0.098\n",
      "Epoch 2 batcj 60 loss: 2.398 acc 0.089\n",
      "Epoch 3 batcj 20 loss: 2.396 acc 0.100\n",
      "Epoch 3 batcj 40 loss: 2.395 acc 0.095\n",
      "Epoch 3 batcj 60 loss: 2.398 acc 0.088\n",
      "Epoch 4 batcj 20 loss: 2.395 acc 0.098\n",
      "Epoch 4 batcj 40 loss: 2.396 acc 0.091\n",
      "Epoch 4 batcj 60 loss: 2.398 acc 0.095\n",
      "Epoch 5 batcj 20 loss: 2.395 acc 0.103\n",
      "Epoch 5 batcj 40 loss: 2.396 acc 0.095\n",
      "Epoch 5 batcj 60 loss: 2.398 acc 0.087\n",
      "Epoch 6 batcj 20 loss: 2.396 acc 0.080\n",
      "Epoch 6 batcj 40 loss: 2.396 acc 0.102\n",
      "Epoch 6 batcj 60 loss: 2.397 acc 0.105\n",
      "Epoch 7 batcj 20 loss: 2.398 acc 0.100\n",
      "Epoch 7 batcj 40 loss: 2.395 acc 0.080\n",
      "Epoch 7 batcj 60 loss: 2.396 acc 0.106\n",
      "Epoch 8 batcj 20 loss: 2.397 acc 0.092\n",
      "Epoch 8 batcj 40 loss: 2.397 acc 0.094\n",
      "Epoch 8 batcj 60 loss: 2.396 acc 0.097\n",
      "Epoch 9 batcj 20 loss: 2.398 acc 0.097\n",
      "Epoch 9 batcj 40 loss: 2.396 acc 0.109\n",
      "Epoch 9 batcj 60 loss: 2.396 acc 0.077\n",
      "Epoch 10 batcj 20 loss: 2.396 acc 0.103\n",
      "Epoch 10 batcj 40 loss: 2.397 acc 0.092\n",
      "Epoch 10 batcj 60 loss: 2.396 acc 0.087\n",
      "Epoch 11 batcj 20 loss: 2.396 acc 0.091\n",
      "Epoch 11 batcj 40 loss: 2.397 acc 0.103\n",
      "Epoch 11 batcj 60 loss: 2.397 acc 0.092\n",
      "Epoch 12 batcj 20 loss: 2.396 acc 0.098\n",
      "Epoch 12 batcj 40 loss: 2.397 acc 0.075\n",
      "Epoch 12 batcj 60 loss: 2.396 acc 0.109\n",
      "Epoch 13 batcj 20 loss: 2.394 acc 0.094\n",
      "Epoch 13 batcj 40 loss: 2.398 acc 0.084\n",
      "Epoch 13 batcj 60 loss: 2.397 acc 0.105\n",
      "Epoch 14 batcj 20 loss: 2.396 acc 0.100\n",
      "Epoch 14 batcj 40 loss: 2.396 acc 0.089\n",
      "Epoch 14 batcj 60 loss: 2.397 acc 0.096\n",
      "Epoch 15 batcj 20 loss: 2.398 acc 0.094\n",
      "Epoch 15 batcj 40 loss: 2.395 acc 0.103\n"
     ]
    },
    {
     "ename": "KeyboardInterrupt",
     "evalue": "",
     "output_type": "error",
     "traceback": [
      "\u001b[31m---------------------------------------------------------------------------\u001b[39m",
      "\u001b[31mKeyboardInterrupt\u001b[39m                         Traceback (most recent call last)",
      "\u001b[36mCell\u001b[39m\u001b[36m \u001b[39m\u001b[32mIn[149]\u001b[39m\u001b[32m, line 20\u001b[39m\n\u001b[32m     16\u001b[39m acc = torch.sum(torch.argmax(outputs, dim = \u001b[32m1\u001b[39m) == labels) / \u001b[38;5;28mlen\u001b[39m(labels)\n\u001b[32m     18\u001b[39m loss = criterion(outputs, labels)\n\u001b[32m---> \u001b[39m\u001b[32m20\u001b[39m \u001b[43mloss\u001b[49m\u001b[43m.\u001b[49m\u001b[43mbackward\u001b[49m\u001b[43m(\u001b[49m\u001b[43m)\u001b[49m\n\u001b[32m     21\u001b[39m optimizer.step()\n\u001b[32m     23\u001b[39m running_acc += acc.item()\n",
      "\u001b[36mFile \u001b[39m\u001b[32mc:\\Users\\jseto\\inat_bot\\inatbot\\Lib\\site-packages\\torch\\_tensor.py:648\u001b[39m, in \u001b[36mTensor.backward\u001b[39m\u001b[34m(self, gradient, retain_graph, create_graph, inputs)\u001b[39m\n\u001b[32m    638\u001b[39m \u001b[38;5;28;01mif\u001b[39;00m has_torch_function_unary(\u001b[38;5;28mself\u001b[39m):\n\u001b[32m    639\u001b[39m     \u001b[38;5;28;01mreturn\u001b[39;00m handle_torch_function(\n\u001b[32m    640\u001b[39m         Tensor.backward,\n\u001b[32m    641\u001b[39m         (\u001b[38;5;28mself\u001b[39m,),\n\u001b[32m   (...)\u001b[39m\u001b[32m    646\u001b[39m         inputs=inputs,\n\u001b[32m    647\u001b[39m     )\n\u001b[32m--> \u001b[39m\u001b[32m648\u001b[39m \u001b[43mtorch\u001b[49m\u001b[43m.\u001b[49m\u001b[43mautograd\u001b[49m\u001b[43m.\u001b[49m\u001b[43mbackward\u001b[49m\u001b[43m(\u001b[49m\n\u001b[32m    649\u001b[39m \u001b[43m    \u001b[49m\u001b[38;5;28;43mself\u001b[39;49m\u001b[43m,\u001b[49m\u001b[43m \u001b[49m\u001b[43mgradient\u001b[49m\u001b[43m,\u001b[49m\u001b[43m \u001b[49m\u001b[43mretain_graph\u001b[49m\u001b[43m,\u001b[49m\u001b[43m \u001b[49m\u001b[43mcreate_graph\u001b[49m\u001b[43m,\u001b[49m\u001b[43m \u001b[49m\u001b[43minputs\u001b[49m\u001b[43m=\u001b[49m\u001b[43minputs\u001b[49m\n\u001b[32m    650\u001b[39m \u001b[43m\u001b[49m\u001b[43m)\u001b[49m\n",
      "\u001b[36mFile \u001b[39m\u001b[32mc:\\Users\\jseto\\inat_bot\\inatbot\\Lib\\site-packages\\torch\\autograd\\__init__.py:353\u001b[39m, in \u001b[36mbackward\u001b[39m\u001b[34m(tensors, grad_tensors, retain_graph, create_graph, grad_variables, inputs)\u001b[39m\n\u001b[32m    348\u001b[39m     retain_graph = create_graph\n\u001b[32m    350\u001b[39m \u001b[38;5;66;03m# The reason we repeat the same comment below is that\u001b[39;00m\n\u001b[32m    351\u001b[39m \u001b[38;5;66;03m# some Python versions print out the first line of a multi-line function\u001b[39;00m\n\u001b[32m    352\u001b[39m \u001b[38;5;66;03m# calls in the traceback and some print out the last line\u001b[39;00m\n\u001b[32m--> \u001b[39m\u001b[32m353\u001b[39m \u001b[43m_engine_run_backward\u001b[49m\u001b[43m(\u001b[49m\n\u001b[32m    354\u001b[39m \u001b[43m    \u001b[49m\u001b[43mtensors\u001b[49m\u001b[43m,\u001b[49m\n\u001b[32m    355\u001b[39m \u001b[43m    \u001b[49m\u001b[43mgrad_tensors_\u001b[49m\u001b[43m,\u001b[49m\n\u001b[32m    356\u001b[39m \u001b[43m    \u001b[49m\u001b[43mretain_graph\u001b[49m\u001b[43m,\u001b[49m\n\u001b[32m    357\u001b[39m \u001b[43m    \u001b[49m\u001b[43mcreate_graph\u001b[49m\u001b[43m,\u001b[49m\n\u001b[32m    358\u001b[39m \u001b[43m    \u001b[49m\u001b[43minputs\u001b[49m\u001b[43m,\u001b[49m\n\u001b[32m    359\u001b[39m \u001b[43m    \u001b[49m\u001b[43mallow_unreachable\u001b[49m\u001b[43m=\u001b[49m\u001b[38;5;28;43;01mTrue\u001b[39;49;00m\u001b[43m,\u001b[49m\n\u001b[32m    360\u001b[39m \u001b[43m    \u001b[49m\u001b[43maccumulate_grad\u001b[49m\u001b[43m=\u001b[49m\u001b[38;5;28;43;01mTrue\u001b[39;49;00m\u001b[43m,\u001b[49m\n\u001b[32m    361\u001b[39m \u001b[43m\u001b[49m\u001b[43m)\u001b[49m\n",
      "\u001b[36mFile \u001b[39m\u001b[32mc:\\Users\\jseto\\inat_bot\\inatbot\\Lib\\site-packages\\torch\\autograd\\graph.py:824\u001b[39m, in \u001b[36m_engine_run_backward\u001b[39m\u001b[34m(t_outputs, *args, **kwargs)\u001b[39m\n\u001b[32m    822\u001b[39m     unregister_hooks = _register_logging_hooks_on_whole_graph(t_outputs)\n\u001b[32m    823\u001b[39m \u001b[38;5;28;01mtry\u001b[39;00m:\n\u001b[32m--> \u001b[39m\u001b[32m824\u001b[39m     \u001b[38;5;28;01mreturn\u001b[39;00m \u001b[43mVariable\u001b[49m\u001b[43m.\u001b[49m\u001b[43m_execution_engine\u001b[49m\u001b[43m.\u001b[49m\u001b[43mrun_backward\u001b[49m\u001b[43m(\u001b[49m\u001b[43m  \u001b[49m\u001b[38;5;66;43;03m# Calls into the C++ engine to run the backward pass\u001b[39;49;00m\n\u001b[32m    825\u001b[39m \u001b[43m        \u001b[49m\u001b[43mt_outputs\u001b[49m\u001b[43m,\u001b[49m\u001b[43m \u001b[49m\u001b[43m*\u001b[49m\u001b[43margs\u001b[49m\u001b[43m,\u001b[49m\u001b[43m \u001b[49m\u001b[43m*\u001b[49m\u001b[43m*\u001b[49m\u001b[43mkwargs\u001b[49m\n\u001b[32m    826\u001b[39m \u001b[43m    \u001b[49m\u001b[43m)\u001b[49m  \u001b[38;5;66;03m# Calls into the C++ engine to run the backward pass\u001b[39;00m\n\u001b[32m    827\u001b[39m \u001b[38;5;28;01mfinally\u001b[39;00m:\n\u001b[32m    828\u001b[39m     \u001b[38;5;28;01mif\u001b[39;00m attach_logging_hooks:\n",
      "\u001b[31mKeyboardInterrupt\u001b[39m: "
     ]
    }
   ],
   "source": [
    "batches_to_print = 20\n",
    "print(\"starting training\")\n",
    "for epoch in range(50): \n",
    "\n",
    "    running_loss = 0\n",
    "    running_acc = 0\n",
    "\n",
    "    for i, data in enumerate(train_loader):\n",
    "        inputs, labels = data\n",
    "\n",
    "        model.train() #if we ever decide to batchnorm later. jujst tells it that we're in training mode rn\n",
    "        optimizer.zero_grad() #zero grad\n",
    "        \n",
    "        outputs = model(inputs) #fd it\n",
    " \n",
    "        acc = torch.sum(torch.argmax(outputs, dim = 1) == labels) / len(labels)\n",
    "\n",
    "        loss = criterion(outputs, labels)\n",
    "\n",
    "        loss.backward()\n",
    "        optimizer.step()\n",
    "        \n",
    "        running_acc += acc.item()\n",
    "        running_loss += loss.item()\n",
    "\n",
    "        if i % batches_to_print == batches_to_print - 1:    # print every 20 batches\n",
    "            print(f'Epoch {epoch + 1} batcj {i + 1} loss: {running_loss / batches_to_print:.3f} acc {running_acc / batches_to_print:.3f}')\n",
    "            running_acc = 0\n",
    "            running_loss = 0 \n",
    "\n",
    "print('Finished Training') "
   ]
  },
  {
   "cell_type": "code",
   "execution_count": null,
   "id": "572acb4f",
   "metadata": {},
   "outputs": [
    {
     "name": "stdout",
     "output_type": "stream",
     "text": [
      "tensor(0.9291)\n"
     ]
    }
   ],
   "source": [
    "#what the f*** how is it 93 acc when i just threw some random stuff together???\n",
    "print(eval_model(model, test_loader))"
   ]
  },
  {
   "cell_type": "code",
   "execution_count": null,
   "id": "1c1d31ed",
   "metadata": {},
   "outputs": [],
   "source": [
    "torch.save(model, \"clouds_1.pt\")"
   ]
  },
  {
   "cell_type": "markdown",
   "id": "95ee5061",
   "metadata": {},
   "source": [
    "# Resnet"
   ]
  },
  {
   "cell_type": "code",
   "execution_count": null,
   "id": "4c33391e",
   "metadata": {},
   "outputs": [],
   "source": []
  }
 ],
 "metadata": {
  "kernelspec": {
   "display_name": "inatbot",
   "language": "python",
   "name": "python3"
  },
  "language_info": {
   "codemirror_mode": {
    "name": "ipython",
    "version": 3
   },
   "file_extension": ".py",
   "mimetype": "text/x-python",
   "name": "python",
   "nbconvert_exporter": "python",
   "pygments_lexer": "ipython3",
   "version": "3.11.9"
  }
 },
 "nbformat": 4,
 "nbformat_minor": 5
}
